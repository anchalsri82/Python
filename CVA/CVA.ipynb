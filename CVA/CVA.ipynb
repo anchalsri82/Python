{
 "cells": [
  {
   "cell_type": "markdown",
   "metadata": {},
   "source": [
    "# CVA Calculation for an Interest Rate Swap"
   ]
  },
  {
   "cell_type": "markdown",
   "metadata": {},
   "source": [
    "In this report we do following:\n",
    "1. Describe how to calculate the credit valuation adjustment taken by Counterpart A to the price of an interest rate swap using credit spreads for Counterparty B. \n",
    "2. Plot MtM values (a good plot will show results from many simulations) and produce :\n",
    "\n",
    "    * A smoothed Expected Exposure profile. While EE is defined as Max($MtM_{\\tau}$, 0), we experiment with exposure distributions(s) at each tenor. Produce smoothed Potential Future Exposure(s) using such indicators as\n",
    "\n",
    "    * The median of positive exposure\n",
    "    \n",
    "    * 97.5th percentile"
   ]
  },
  {
   "cell_type": "markdown",
   "metadata": {},
   "source": [
    "#### Input for IRS Valuations are :"
   ]
  },
  {
   "cell_type": "markdown",
   "metadata": {},
   "source": [
    "1. Forward LIBORs\n",
    "2. Discounting Factors (DF)\n",
    "3. Default probabilities (PDs)\n",
    "\n",
    "Assumptions\n",
    "* The IRS is assumed to be written on a 6M LIBOR $L_{6M}$ expiring in 5Y, hence the payment frequency is $\\tau=0.5$\n",
    "* The notional is assumed to be $N=1$\n",
    "* Recovery rate 40%"
   ]
  },
  {
   "cell_type": "markdown",
   "metadata": {},
   "source": [
    " ### Default Probabilities (PDs)\n",
    "\n",
    "Default Probabilities are calculated from CDS spreads using the bootstrapping in excel 'PD CDS Bootstrapping.xlsx.'"
   ]
  },
  {
   "cell_type": "code",
   "execution_count": 2,
   "metadata": {
    "collapsed": false
   },
   "outputs": [
    {
     "name": "stdout",
     "output_type": "stream",
     "text": [
      "           CDS        DF  Lambda      PD         P\n",
      "Tenor                                             \n",
      "0.0        NaN  1.000000    nan% 0.0000% 100.0000%\n",
      "0.5    114.400  0.995835 1.8976% 0.9443%  99.0557%\n",
      "1.0    133.770  0.990963 2.2197% 1.2510%  97.8047%\n",
      "1.5    167.180  0.985697 2.7798% 1.8887%  95.9161%\n",
      "2.0    200.590  0.980105 3.3452% 2.3875%  93.5285%\n",
      "2.5    233.965  0.974101 3.9174% 2.8579%  90.6707%\n",
      "3.0    267.340  0.967832 4.4994% 3.2974%  87.3732%\n",
      "3.5    296.545  0.961232 5.0170% 3.4776%  83.8957%\n",
      "4.0    325.750  0.954239 5.5471% 3.7947%  80.1009%\n",
      "4.5    353.200  0.946899 6.0576% 3.9605%  76.1405%\n",
      "5.0    380.650  0.939187 6.5842% 4.1914%  71.9490%\n"
     ]
    }
   ],
   "source": [
    "from matplotlib.ticker import FuncFormatter\n",
    "\n",
    "import pandas as pd\n",
    "# Import statsmodels equivalents to validate results\n",
    "from statsmodels.tsa.api import VAR\n",
    "from statsmodels.regression.linear_model import OLS\n",
    "from statsmodels.tsa.tsatools import (lagmat, add_trend)\n",
    "from statsmodels.tsa.stattools import adfuller\n",
    "import numpy as np\n",
    "import math\n",
    "from datetime import datetime\n",
    "\n",
    "%matplotlib inline\n",
    "import matplotlib.pyplot as plt\n",
    "import seaborn as sns\n",
    "import matplotlib.pylab as pylab\n",
    "\n",
    "\n",
    "data2 = pd.read_csv(\"inputcva.csv\", index_col=0)\n",
    "output = data2.to_string(formatters={'Lambda': '{:,.4%}'.format, 'PD': '{:,.4%}'.format,'P': '{:,.4%}'.format})\n",
    "print(output)"
   ]
  },
  {
   "cell_type": "markdown",
   "metadata": {},
   "source": [
    "## Forward LIBORs\n",
    "\n",
    "\n",
    "* LIBOR  indicates money-market rates for actual loans between banks for upto 18 M\n",
    "\n",
    "* OIS targets the Federal Funds Rate, an average over the period. The spread for LIBOR fixings Vs OIS prices reveals the short-term credit risk in the financial system.\n",
    "\n",
    "#### OIS Discount factors\n",
    "\n",
    "* Observe the difference between DF taken under the forward measure and $DF_{OIS}$ representing the risk-neutral measure Q.\n",
    "\n",
    "Used Bank of England data for Forward Curve from BOE website http://www.bankofengland.co.uk and used 5 year data from Tab '1. fwds, short end' rest 20 years from Tab '2. fwd curve' from sheet ukblc05_mdaily.xlsx and ukblc16_mdaily.xlsx. Data sampled from 13th Sep 2015 till 20th July 2017 and kept in sheet HJM Model MC.xlsm Tab 'FwdCurve'\n",
    "\n",
    "Following step was taken to find eigen values using Principal Components Analysis:\n",
    "1. Calcualted difference of Forward Curve data in Tab 'FwdCurve' and kept in Tab 'Difference'\n",
    "2. Calcualted Covariance of Difference in Tab 'Difference' and kept it in Tab 'Covariance'\n",
    "3. Calculated Eigenvalues based on 'Covariance' Tab and kept in PCFV tab.\n",
    "4. Calcualted EigenVectors using Jacobi algorithm.\n",
    "5. Sorted Eigenvalues and found the top 3 eigen values.\n",
    "\n",
    "|             | Tenor | Eigenvalue | Cum. R^2 |\n",
    "|-------------|-------|------------|----------|\n",
    "| 1st largest PC| 7.0\t| 0.002370368 |\t8.98E-01 |\n",
    "| 2nd largest PC| 2.0\t| 0.000121736 | 9.45E-01 |\n",
    "| 3rd largest PC| 25.0 | 7.71771E-05 | 9.738E-01 |\n",
    "\n",
    "* Selected Principal Components as top 3 eigen values and calucated Principal Components volatility functions as below in Tab 'Volatility':\n",
    "$$\n",
    "Vol_i = \\sqrt{\\lambda_i} \\space e(i) \\space\\space\\space \\forall \\space i=1,2,3\n",
    "$$\n"
   ]
  },
  {
   "cell_type": "markdown",
   "metadata": {
    "collapsed": false
   },
   "source": []
  },
  {
   "cell_type": "code",
   "execution_count": null,
   "metadata": {
    "collapsed": true
   },
   "outputs": [],
   "source": []
  }
 ],
 "metadata": {
  "kernelspec": {
   "display_name": "Python 3",
   "language": "python",
   "name": "python3"
  },
  "language_info": {
   "codemirror_mode": {
    "name": "ipython",
    "version": 3
   },
   "file_extension": ".py",
   "mimetype": "text/x-python",
   "name": "python",
   "nbconvert_exporter": "python",
   "pygments_lexer": "ipython3",
   "version": "3.6.0"
  }
 },
 "nbformat": 4,
 "nbformat_minor": 2
}
