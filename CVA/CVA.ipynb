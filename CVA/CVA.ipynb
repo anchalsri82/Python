{
 "cells": [
  {
   "cell_type": "markdown",
   "metadata": {},
   "source": [
    "# CVA Calculation for an Interest Rate Swap"
   ]
  },
  {
   "cell_type": "markdown",
   "metadata": {},
   "source": [
    "In this report we do following:\n",
    "1. Describe how to calculate the credit valuation adjustment taken by Counterpart A to the price of an interest rate swap using credit spreads for Counterparty B. \n",
    "2. Plot MtM values and produce :\n",
    "    * A smoothed Expected Exposure profile. While EE is defined as Max($MtM_{\\tau}$, 0), we experiment with exposure distributions(s) at each tenor. Produce smoothed Potential Future Exposure(s) using such indicators as\n",
    "\n",
    "    * The median of positive exposure\n",
    "    \n",
    "    * 97.5th percentile"
   ]
  },
  {
   "cell_type": "markdown",
   "metadata": {},
   "source": [
    "#### Input for IRS Valuations are :"
   ]
  },
  {
   "cell_type": "markdown",
   "metadata": {},
   "source": [
    "1. Forward LIBORs\n",
    "2. Discounting Factors (DF)\n",
    "3. Default probabilities (PDs)\n",
    "\n",
    "Assumptions\n",
    "* The IRS is assumed to be written on a 6M LIBOR $L_{6M}$ expiring in 5Y, hence the payment frequency is $\\tau=0.5$\n",
    "* The notional is assumed to be $N=1$\n",
    "* Recovery rate 40%"
   ]
  },
  {
   "cell_type": "markdown",
   "metadata": {},
   "source": [
    " ### Default Probabilities (PDs)\n",
    "\n",
    "Default Probabilities are calculated from CDS spreads using the bootstrapping in excel 'PD CDS Bootstrapping.xlsx.'"
   ]
  },
  {
   "cell_type": "code",
   "execution_count": 11,
   "metadata": {},
   "outputs": [
    {
     "name": "stdout",
     "output_type": "stream",
     "text": [
      "           CDS        DF  Lambda       PD         P\n",
      "Tenor                                              \n",
      "0.0        NaN  1.000000    nan%  0.0000% 100.0000%\n",
      "0.5    128.400  0.995835 2.1286%  1.0587%  98.9413%\n",
      "1.0    150.000  0.990963 2.2197%  2.1953%  97.8047%\n",
      "1.5    200.295  0.985697 2.7798%  4.0839%  95.9161%\n",
      "2.0    250.590  0.980105 3.3452%  6.4715%  93.5285%\n",
      "2.5    280.295  0.974101 3.9174%  9.3293%  90.6707%\n",
      "3.0    310.000  0.967832 4.4994% 12.6268%  87.3732%\n",
      "3.5    360.000  0.961232 5.0170% 16.1043%  83.8957%\n",
      "4.0    410.000  0.954239 5.5471% 19.8991%  80.1009%\n",
      "4.5    500.000  0.946899 6.0576% 23.8595%  76.1405%\n",
      "5.0    590.000  0.939187 6.5842% 28.0510%  71.9490%\n"
     ]
    }
   ],
   "source": [
    "from matplotlib.ticker import FuncFormatter\n",
    "\n",
    "import pandas as pd\n",
    "import numpy as np\n",
    "import math\n",
    "from datetime import datetime\n",
    "\n",
    "%matplotlib inline\n",
    "import matplotlib.pyplot as plt\n",
    "import seaborn as sns\n",
    "import matplotlib.pylab as pylab\n",
    "\n",
    "\n",
    "data2 = pd.read_csv(\"CVAInput.csv\", index_col=0)\n",
    "output = data2.to_string(formatters={'Lambda': '{:,.4%}'.format, 'PD': '{:,.4%}'.format,'P': '{:,.4%}'.format})\n",
    "print(output)"
   ]
  },
  {
   "cell_type": "markdown",
   "metadata": {},
   "source": [
    "## Forward LIBORs\n",
    "\n",
    "\n",
    "* LIBOR  indicates money-market rates for actual loans between banks for upto 18 M\n",
    "\n",
    "* OIS targets the Federal Funds Rate, an average over the period. The spread for LIBOR fixings Vs OIS prices reveals the short-term credit risk in the financial system.\n",
    "\n",
    "#### OIS Discount factors\n",
    "\n",
    "* Observe the difference between DF taken under the forward measure and $DF_{OIS}$ representing the risk-neutral measure Q.\n",
    "\n",
    "Used Bank of England data for Forward Curve from BOE website http://www.bankofengland.co.uk and used 5 year data from Tab '1. fwds, short end' rest 20 years from Tab '2. fwd curve' from sheet ukblc05_mdaily.xlsx and ukblc16_mdaily.xlsx. Data sampled from 13th Sep 2015 till 20th July 2017 and kept in sheet HJM Model MC.xlsm Tab 'FwdCurve'\n",
    "\n",
    "Following step was taken to find eigen values using Principal Components Analysis:\n",
    "1. Calculated difference of Forward Curve data in Tab 'FwdCurve' and kept in Tab 'Difference'\n",
    "2. Calculated Covariance of Difference in Tab 'Difference' and kept it in Tab 'Covariance'\n",
    "3. Calculated Eigenvalues based on 'Covariance' Tab and kept in PCFV tab.\n",
    "4. Calculated EigenVectors using Jacobi algorithm.\n",
    "5. Sorted Eigenvalues and found the top 3 eigen values.\n",
    "\n",
    "|             | Tenor | Eigenvalue | Cum. R^2 |\n",
    "|-------------|-------|------------|----------|\n",
    "| 1st largest PC| 7.0\t| 0.002370368 |\t8.98E-01 |\n",
    "| 2nd largest PC| 2.0\t| 0.000121736 | 9.45E-01 |\n",
    "| 3rd largest PC| 25.0 | 7.71771E-05 | 9.738E-01 |\n",
    "\n",
    "* Selected Principal Components as top 3 eigen values and calucated Principal Components volatility functions as below in Tab 'Volatility', 'Vol_1', 'Vol_2', 'Vol_3':\n",
    "$$\n",
    "Vol_i = \\sqrt{\\lambda_i} \\space e(i) \\space\\space\\space \\forall \\space i=1,2,3\n",
    "$$\n",
    "a"
   ]
  },
  {
   "cell_type": "code",
   "execution_count": 12,
   "metadata": {},
   "outputs": [
    {
     "data": {
      "text/html": [
       "\n",
       "        <iframe\n",
       "            width=\"600\"\n",
       "            height=\"450\"\n",
       "            src=\"PCA_Chart.pdf\"\n",
       "            frameborder=\"0\"\n",
       "            allowfullscreen\n",
       "        ></iframe>\n",
       "        "
      ],
      "text/plain": [
       "<IPython.lib.display.IFrame at 0x1418b890>"
      ]
     },
     "execution_count": 12,
     "metadata": {},
     "output_type": "execute_result"
    }
   ],
   "source": [
    "from IPython.display import IFrame\n",
    "IFrame(\"PCA_Chart.pdf\", width=600, height=450)"
   ]
  },
  {
   "cell_type": "markdown",
   "metadata": {},
   "source": [
    "The drift function $\\mu(t)$ is obtained by integrating over the principal components and assuming that volatility is a function of time. Refer Tab 'MC'"
   ]
  },
  {
   "cell_type": "markdown",
   "metadata": {},
   "source": [
    "Volatility and Drift functions are used in HJM model Monte Carlo simulation to produce forward curve using below equations:\n",
    "\n",
    "$$\n",
    "d\\bar{f} = \\mu (t) dt + \\sum_{i=1}^{3} Vol_i \\phi_i \\sqrt{dt} + \\frac{dF}{d\\tau} dt\n",
    "$$\n",
    "\n",
    "where $\\phi_i$ is a random number drawn from the standard normal distribution and the last term is the Musiela correction. \n"
   ]
  },
  {
   "cell_type": "code",
   "execution_count": 24,
   "metadata": {},
   "outputs": [
    {
     "data": {
      "text/html": [
       "\n",
       "        <iframe\n",
       "            width=\"500\"\n",
       "            height=\"400\"\n",
       "            src=\"Vol_1.pdf\"\n",
       "            frameborder=\"0\"\n",
       "            allowfullscreen\n",
       "        ></iframe>\n",
       "        "
      ],
      "text/plain": [
       "<IPython.lib.display.IFrame at 0x142ae2f0>"
      ]
     },
     "execution_count": 24,
     "metadata": {},
     "output_type": "execute_result"
    }
   ],
   "source": [
    "from IPython.display import IFrame\n",
    "IFrame(\"Vol_1.pdf\", width=500, height=400)"
   ]
  },
  {
   "cell_type": "code",
   "execution_count": 25,
   "metadata": {},
   "outputs": [
    {
     "data": {
      "text/html": [
       "\n",
       "        <iframe\n",
       "            width=\"500\"\n",
       "            height=\"400\"\n",
       "            src=\"Vol_2.pdf\"\n",
       "            frameborder=\"0\"\n",
       "            allowfullscreen\n",
       "        ></iframe>\n",
       "        "
      ],
      "text/plain": [
       "<IPython.lib.display.IFrame at 0x14287690>"
      ]
     },
     "execution_count": 25,
     "metadata": {},
     "output_type": "execute_result"
    }
   ],
   "source": [
    "from IPython.display import IFrame\n",
    "IFrame(\"Vol_2.pdf\", width=500, height=400)"
   ]
  },
  {
   "cell_type": "code",
   "execution_count": 26,
   "metadata": {},
   "outputs": [
    {
     "data": {
      "text/html": [
       "\n",
       "        <iframe\n",
       "            width=\"500\"\n",
       "            height=\"400\"\n",
       "            src=\"Vol_3.pdf\"\n",
       "            frameborder=\"0\"\n",
       "            allowfullscreen\n",
       "        ></iframe>\n",
       "        "
      ],
      "text/plain": [
       "<IPython.lib.display.IFrame at 0x140949d0>"
      ]
     },
     "execution_count": 26,
     "metadata": {},
     "output_type": "execute_result"
    }
   ],
   "source": [
    "from IPython.display import IFrame\n",
    "IFrame(\"Vol_3.pdf\", width=500, height=400)"
   ]
  },
  {
   "cell_type": "code",
   "execution_count": 28,
   "metadata": {},
   "outputs": [
    {
     "data": {
      "image/png": "[encoded data removed]",
      "text/plain": [
       "<matplotlib.figure.Figure at 0x13f74d70>"
      ]
     },
     "metadata": {},
     "output_type": "display_data"
    }
   ],
   "source": [
    "from __future__ import division\n",
    "import numpy as np\n",
    "import pandas as pd\n",
    "import math\n",
    "\n",
    "M = 451\n",
    "I = 451\n",
    "n_tau = 50 \n",
    "dt = 0.01\n",
    "shape_3D = (M + 1, I, n_tau + 1)\n",
    "np.random.seed(1000)\n",
    "\n",
    "data = pd.read_csv(\"CVAParams.csv\", index_col=0)\n",
    "mu = np.array(data.iloc[0, :], dtype=np.float)\n",
    "vol1 = np.array(data.iloc[1, :], dtype=np.float)\n",
    "vol2 = np.array(data.iloc[2, :], dtype=np.float)\n",
    "vol3 = np.array(data.iloc[3, :], dtype=np.float)\n",
    "S0 = np.array(data.iloc[4, :], dtype=np.float)\n",
    "#print(data.columns)\n",
    "tau = np.array(data.columns, dtype=np.float)\n",
    "d_S_plus = np.diff(S0)\n",
    "d_S_plus = np.append(d_S_plus, d_S_plus[-1])\n",
    "d_tau = np.diff(tau)\n",
    "d_tau = np.append(d_tau, d_tau[-1])\n",
    "\n",
    "\n",
    "t_m = np.zeros((M + 1), dtype=np.float)\n",
    "S_plus_m = np.zeros(shape_3D, dtype=np.float)\n",
    "\n",
    "t_m[0] = 0.0\n",
    "S_plus_m[0][:] = S0\n",
    "S_minus_m = S_plus_m.copy()  \n",
    "\n",
    "for i in range(1, M + 1):\n",
    "    #if i % 10 == 0:\n",
    "        #print ('i=%d' % i)\n",
    "\n",
    "    rand1 = np.random.standard_normal((I, 1))\n",
    "    rand2 = np.random.standard_normal((I, 1))\n",
    "    rand3 = np.random.standard_normal((I, 1))\n",
    "\n",
    "    d_S_plus = np.diff(S_plus_m[i-1][:])\n",
    "    d_S_plus = np.hstack((d_S_plus, d_S_plus[:, -1].reshape(I, 1)))\n",
    "    d_S_minus = np.diff(S_minus_m[i-1][:])\n",
    "    d_S_minus = np.hstack((d_S_minus, d_S_minus[:, -1].reshape(I, 1)))\n",
    "\n",
    "    t_m[i] = round(t_m[i - 1] + dt,2)\n",
    "    S_plus_m[i][:] = S_plus_m[i - 1][:] + mu * dt + (vol1 * rand1 + vol2 * rand2 + vol3 * rand3) * math.sqrt(dt) + (d_S_plus / d_tau) * dt\n",
    "    S_minus_m[i][:] = S_minus_m[i - 1][:] + mu * dt + (vol1 * (-rand1) + vol2 * (-rand2) + vol3 * (-rand3)) * math.sqrt(dt) + (d_S_minus / d_tau) * dt\n",
    "\n",
    "data2 = pd.read_csv(\"CVAInput.csv\", index_col=0)\n",
    "\n",
    "col_names = ['Sim' + str(x) for x in range(1, I + 1)]\n",
    "f_plus = pd.DataFrame(index=data2.index, columns=col_names, dtype=np.float) \n",
    "i = 0\n",
    "\n",
    "for index, row in f_plus.iterrows():\n",
    "    f_plus.loc[index, :] = S_plus_m[int(i), :, 1]\n",
    "    i += 50\n",
    "    if i>S_plus_m.shape[0]:\n",
    "        i=S_plus_m.shape[0]-1\n",
    "\n",
    "freq = 0.5\n",
    "L_plus = (1.0 / freq) * (np.exp(f_plus * freq) - 1.0)\n",
    "K_plus = L_plus.iloc[0, :][0]\n",
    "L_plus_masked = np.ma.masked_where(L_plus < K_plus, L_plus)\n",
    "\n",
    "L_plus.iloc[:, 0:450].plot(title='Forward Libor')\n",
    "_ = plt.xlabel('Tenor (years)')\n",
    "_ = plt.legend('')  # remove legend"
   ]
  },
  {
   "cell_type": "markdown",
   "metadata": {},
   "source": [
    "## Discount Factors\n",
    "\n",
    "DF is calculated as below:\n",
    "\n",
    "$$\n",
    "DF(0, T_{i+1}) = \\prod_{i} \\frac{1}{1 + \\tau_i L(t; T_i, T_{i+1})} \n",
    "$$"
   ]
  },
  {
   "cell_type": "code",
   "execution_count": 5,
   "metadata": {},
   "outputs": [
    {
     "data": {
      "text/html": [
       "<div>\n",
       "<style>\n",
       "    .dataframe thead tr:only-child th {\n",
       "        text-align: right;\n",
       "    }\n",
       "\n",
       "    .dataframe thead th {\n",
       "        text-align: left;\n",
       "    }\n",
       "\n",
       "    .dataframe tbody tr th {\n",
       "        vertical-align: top;\n",
       "    }\n",
       "</style>\n",
       "<table border=\"1\" class=\"dataframe\">\n",
       "  <thead>\n",
       "    <tr style=\"text-align: right;\">\n",
       "      <th></th>\n",
       "      <th>0.0</th>\n",
       "      <th>0.5</th>\n",
       "      <th>1.0</th>\n",
       "      <th>1.5</th>\n",
       "      <th>2.0</th>\n",
       "      <th>2.5</th>\n",
       "      <th>3.0</th>\n",
       "      <th>3.5</th>\n",
       "      <th>4.0</th>\n",
       "      <th>4.5</th>\n",
       "      <th>5.0</th>\n",
       "    </tr>\n",
       "    <tr>\n",
       "      <th>Tenor</th>\n",
       "      <th></th>\n",
       "      <th></th>\n",
       "      <th></th>\n",
       "      <th></th>\n",
       "      <th></th>\n",
       "      <th></th>\n",
       "      <th></th>\n",
       "      <th></th>\n",
       "      <th></th>\n",
       "      <th></th>\n",
       "      <th></th>\n",
       "    </tr>\n",
       "  </thead>\n",
       "  <tbody>\n",
       "    <tr>\n",
       "      <th>0.0</th>\n",
       "      <td>1</td>\n",
       "      <td>0.706845</td>\n",
       "      <td>0.468495</td>\n",
       "      <td>0.296335</td>\n",
       "      <td>0.180174</td>\n",
       "      <td>0.105497</td>\n",
       "      <td>0.0595304</td>\n",
       "      <td>0.032374</td>\n",
       "      <td>0.0169816</td>\n",
       "      <td>0.00860365</td>\n",
       "      <td>0.00435629</td>\n",
       "    </tr>\n",
       "    <tr>\n",
       "      <th>0.5</th>\n",
       "      <td>0</td>\n",
       "      <td>1</td>\n",
       "      <td>0.662798</td>\n",
       "      <td>0.419237</td>\n",
       "      <td>0.254898</td>\n",
       "      <td>0.14925</td>\n",
       "      <td>0.0842199</td>\n",
       "      <td>0.0458008</td>\n",
       "      <td>0.0240245</td>\n",
       "      <td>0.0121719</td>\n",
       "      <td>0.006163</td>\n",
       "    </tr>\n",
       "    <tr>\n",
       "      <th>1.0</th>\n",
       "      <td>0</td>\n",
       "      <td>0</td>\n",
       "      <td>1</td>\n",
       "      <td>0.632526</td>\n",
       "      <td>0.38458</td>\n",
       "      <td>0.225182</td>\n",
       "      <td>0.127067</td>\n",
       "      <td>0.0691022</td>\n",
       "      <td>0.0362472</td>\n",
       "      <td>0.0183644</td>\n",
       "      <td>0.00929847</td>\n",
       "    </tr>\n",
       "    <tr>\n",
       "      <th>1.5</th>\n",
       "      <td>0</td>\n",
       "      <td>0</td>\n",
       "      <td>0</td>\n",
       "      <td>1</td>\n",
       "      <td>0.608006</td>\n",
       "      <td>0.356004</td>\n",
       "      <td>0.200889</td>\n",
       "      <td>0.109248</td>\n",
       "      <td>0.0573054</td>\n",
       "      <td>0.0290335</td>\n",
       "      <td>0.0147005</td>\n",
       "    </tr>\n",
       "    <tr>\n",
       "      <th>2.0</th>\n",
       "      <td>0</td>\n",
       "      <td>0</td>\n",
       "      <td>0</td>\n",
       "      <td>0</td>\n",
       "      <td>1</td>\n",
       "      <td>0.585527</td>\n",
       "      <td>0.330406</td>\n",
       "      <td>0.179682</td>\n",
       "      <td>0.0942514</td>\n",
       "      <td>0.047752</td>\n",
       "      <td>0.0241783</td>\n",
       "    </tr>\n",
       "    <tr>\n",
       "      <th>2.5</th>\n",
       "      <td>0</td>\n",
       "      <td>0</td>\n",
       "      <td>0</td>\n",
       "      <td>0</td>\n",
       "      <td>0</td>\n",
       "      <td>1</td>\n",
       "      <td>0.564288</td>\n",
       "      <td>0.306873</td>\n",
       "      <td>0.160968</td>\n",
       "      <td>0.0815538</td>\n",
       "      <td>0.0412932</td>\n",
       "    </tr>\n",
       "    <tr>\n",
       "      <th>3.0</th>\n",
       "      <td>0</td>\n",
       "      <td>0</td>\n",
       "      <td>0</td>\n",
       "      <td>0</td>\n",
       "      <td>0</td>\n",
       "      <td>0</td>\n",
       "      <td>1</td>\n",
       "      <td>0.543823</td>\n",
       "      <td>0.285259</td>\n",
       "      <td>0.144525</td>\n",
       "      <td>0.0731775</td>\n",
       "    </tr>\n",
       "    <tr>\n",
       "      <th>3.5</th>\n",
       "      <td>0</td>\n",
       "      <td>0</td>\n",
       "      <td>0</td>\n",
       "      <td>0</td>\n",
       "      <td>0</td>\n",
       "      <td>0</td>\n",
       "      <td>0</td>\n",
       "      <td>1</td>\n",
       "      <td>0.524544</td>\n",
       "      <td>0.265758</td>\n",
       "      <td>0.134561</td>\n",
       "    </tr>\n",
       "    <tr>\n",
       "      <th>4.0</th>\n",
       "      <td>0</td>\n",
       "      <td>0</td>\n",
       "      <td>0</td>\n",
       "      <td>0</td>\n",
       "      <td>0</td>\n",
       "      <td>0</td>\n",
       "      <td>0</td>\n",
       "      <td>0</td>\n",
       "      <td>1</td>\n",
       "      <td>0.506645</td>\n",
       "      <td>0.25653</td>\n",
       "    </tr>\n",
       "    <tr>\n",
       "      <th>4.5</th>\n",
       "      <td>0</td>\n",
       "      <td>0</td>\n",
       "      <td>0</td>\n",
       "      <td>0</td>\n",
       "      <td>0</td>\n",
       "      <td>0</td>\n",
       "      <td>0</td>\n",
       "      <td>0</td>\n",
       "      <td>0</td>\n",
       "      <td>1</td>\n",
       "      <td>0.50633</td>\n",
       "    </tr>\n",
       "    <tr>\n",
       "      <th>5.0</th>\n",
       "      <td>0</td>\n",
       "      <td>0</td>\n",
       "      <td>0</td>\n",
       "      <td>0</td>\n",
       "      <td>0</td>\n",
       "      <td>0</td>\n",
       "      <td>0</td>\n",
       "      <td>0</td>\n",
       "      <td>0</td>\n",
       "      <td>0</td>\n",
       "      <td>1</td>\n",
       "    </tr>\n",
       "  </tbody>\n",
       "</table>\n",
       "</div>"
      ],
      "text/plain": [
       "      0.0       0.5       1.0       1.5       2.0       2.5        3.0  \\\n",
       "Tenor                                                                    \n",
       "0.0     1  0.706845  0.468495  0.296335  0.180174  0.105497  0.0595304   \n",
       "0.5     0         1  0.662798  0.419237  0.254898   0.14925  0.0842199   \n",
       "1.0     0         0         1  0.632526   0.38458  0.225182   0.127067   \n",
       "1.5     0         0         0         1  0.608006  0.356004   0.200889   \n",
       "2.0     0         0         0         0         1  0.585527   0.330406   \n",
       "2.5     0         0         0         0         0         1   0.564288   \n",
       "3.0     0         0         0         0         0         0          1   \n",
       "3.5     0         0         0         0         0         0          0   \n",
       "4.0     0         0         0         0         0         0          0   \n",
       "4.5     0         0         0         0         0         0          0   \n",
       "5.0     0         0         0         0         0         0          0   \n",
       "\n",
       "             3.5        4.0         4.5         5.0  \n",
       "Tenor                                                \n",
       "0.0     0.032374  0.0169816  0.00860365  0.00435629  \n",
       "0.5    0.0458008  0.0240245   0.0121719    0.006163  \n",
       "1.0    0.0691022  0.0362472   0.0183644  0.00929847  \n",
       "1.5     0.109248  0.0573054   0.0290335   0.0147005  \n",
       "2.0     0.179682  0.0942514    0.047752   0.0241783  \n",
       "2.5     0.306873   0.160968   0.0815538   0.0412932  \n",
       "3.0     0.543823   0.285259    0.144525   0.0731775  \n",
       "3.5            1   0.524544    0.265758    0.134561  \n",
       "4.0            0          1    0.506645     0.25653  \n",
       "4.5            0          0           1     0.50633  \n",
       "5.0            0          0           0           1  "
      ]
     },
     "execution_count": 5,
     "metadata": {},
     "output_type": "execute_result"
    }
   ],
   "source": [
    "ZCB_plus = 1.0 / (1 + freq * L_plus)\n",
    "ZCB_plus.iloc[0, :] = 1.0 \n",
    "ZCB_plus = ZCB_plus.cumprod()\n",
    "ZCB_plus_mean = pd.Series(index=ZCB_plus.index, data=np.mean(ZCB_plus, axis=1))\n",
    "\n",
    "DF = pd.DataFrame(index=ZCB_plus.index, columns=list(ZCB_plus.index))\n",
    "DF.loc[0.0, :] = ZCB_plus_mean\n",
    "\n",
    "\n",
    "for index, row in DF.iterrows():\n",
    "    if index == 0.0:\n",
    "        continue\n",
    "    x = DF.loc[0.0][row.index]/DF.loc[0.0, index]\n",
    "    x[x > 1] = 0\n",
    "    DF.loc[index, :] = x\n",
    "    \n",
    "DF2 = DF.copy()\n",
    "np.fill_diagonal(DF2.values, 1)\n",
    "DF2"
   ]
  },
  {
   "cell_type": "markdown",
   "metadata": {},
   "source": [
    "## CVA"
   ]
  },
  {
   "cell_type": "markdown",
   "metadata": {},
   "source": [
    "#### MtM \n",
    "\n",
    "HJM output (simulated inst / discreate forwards rates) gives more flexibility in building the Exposure Profile:\n",
    "simulation deliver a sample of same period rates from which the median and 97.5, 99th percentile rates can be picked for PFE.\n",
    "\n",
    "MtM values are (discounted) swap cashflows form the initial curve $|->$ [0, 5Y], then the curve of the Forward LIBORs $|->$ [0, 4.5] simulated at t= 0.5, then $|->$ [0, 4] simulated at t=1.\n",
    "\n",
    "HJM output is in rows: at each reset point use the shorter curve:\n",
    "t=1 the cureve is over [0, 4Y]\n",
    "\n",
    "While Fwd LIBOR are taken off the curve, the range of curve movements generated by the HJM potentially allows using tenor column $\\tau$ = 0.5 only. Credit risk on the swap payment is maximum 6M.\n",
    "\n",
    "$\n",
    "MtM_{3Y} = \\sum^{T=5}_{i=3} D.F. (L - K) PD\n",
    "$\n",
    "\n",
    "\n",
    "where $N$ is the notional and $K$ the fixed agreed rate and $L_i = L(t; T_{i-1}, T_{i})$.\n",
    "\n"
   ]
  },
  {
   "cell_type": "markdown",
   "metadata": {},
   "source": [
    "### Exposure\n",
    "\n",
    "\n",
    "The exposure for each tenor $E_i$ is calculated from the positive part of the MTM simulations as:\n",
    "$$\n",
    "E_i = max(V_i, 0)\n",
    "$$\n"
   ]
  },
  {
   "cell_type": "code",
   "execution_count": 6,
   "metadata": {},
   "outputs": [
    {
     "data": {
      "image/png": "[encoded data removed]",
      "text/plain": [
       "<matplotlib.figure.Figure at 0x14588ff0>"
      ]
     },
     "metadata": {},
     "output_type": "display_data"
    }
   ],
   "source": [
    "np.fill_diagonal(DF.values, 0)\n",
    "N = 1.0\n",
    "V_plus = N * freq * DF.dot(L_plus - K_plus)\n",
    "E_plus = np.maximum(V_plus, 0)\n",
    "\n",
    "E_plus2 = np.array(E_plus, dtype=np.float32)\n",
    "E_plus_masked = np.ma.masked_where(E_plus2 == 0, E_plus2)\n",
    "\n",
    "\n",
    "E_plus.loc[:, E_plus.loc[0.5] > 0].plot().plot(title='Exposure Profiles')\n",
    "_ = plt.xlabel('Tenor (years)')\n",
    "_ = plt.legend('')  # remove legend"
   ]
  },
  {
   "cell_type": "markdown",
   "metadata": {},
   "source": [
    "#### Expected Exposure\n",
    "The Expected Exposure (EE) is calculated as the median of the Exposure profile.\n"
   ]
  },
  {
   "cell_type": "code",
   "execution_count": 7,
   "metadata": {},
   "outputs": [
    {
     "name": "stdout",
     "output_type": "stream",
     "text": [
      "63.209182024\n",
      "65.8002451062\n"
     ]
    }
   ],
   "source": [
    "\n",
    "EE_plus_median = pd.Series(index=E_plus.index[:-1], data=np.ma.median(E_plus_masked[:-1], axis=1))\n",
    "EE_plus_median.loc[5.0] = 0.0\n",
    "EE_plus_mean = pd.Series(index=E_plus.index[:-1], data=np.ma.mean(E_plus_masked[:-1], axis=1))\n",
    "EE_plus_mean.loc[5.0] = 0.0\n",
    "\n",
    "PFE_plus = pd.Series(index=E_plus.index, data=np.percentile(E_plus_masked, q=97.5, axis=1))\n",
    "\n",
    "index_interpol = ['0.0-0.5', '0.5-1.0', '1.0-1.5', '1.5-2.0', '2.0-2.5', '2.5-3.0', '3.0-3.5', '3.5-4.0', '4.0-4.5', '4.5-5.0']\n",
    "\n",
    "EE_plus_median_interpol = (EE_plus_median + EE_plus_median.shift(-1)) / 2.0\n",
    "EE_plus_median_interpol = EE_plus_median_interpol.iloc[:-1]\n",
    "EE_plus_median_interpol.index = index_interpol\n",
    "\n",
    "DF_interpol = DF.loc[0.0, :].copy()\n",
    "DF_interpol[0.0] = 1.0\n",
    "DF_interpol = (DF_interpol + DF_interpol.shift(-1))/2.0\n",
    "DF_interpol = DF_interpol.iloc[:-1]\n",
    "DF_interpol.index = index_interpol\n",
    "\n",
    "PD_interpol = data2['PD'].iloc[1:]\n",
    "PD_interpol.index = index_interpol\n",
    "\n",
    "\n",
    "print (np.max(EE_plus_median)*100.0)\n",
    "print (np.max(PFE_plus)*100.0)"
   ]
  },
  {
   "cell_type": "code",
   "execution_count": 8,
   "metadata": {},
   "outputs": [
    {
     "data": {
      "text/plain": [
       "<matplotlib.legend.Legend at 0x1457d1d0>"
      ]
     },
     "execution_count": 8,
     "metadata": {},
     "output_type": "execute_result"
    },
    {
     "data": {
      "image/png": "[encoded data removed]",
      "text/plain": [
       "<matplotlib.figure.Figure at 0x1457d770>"
      ]
     },
     "metadata": {},
     "output_type": "display_data"
    }
   ],
   "source": [
    "EE_plus_mean.plot(label=\"EE_mean\")\n",
    "EE_plus_median.plot(label=\"EE_median\")\n",
    "PFE_plus.plot(label=\"PFE\")\n",
    "plt.legend()"
   ]
  },
  {
   "cell_type": "markdown",
   "metadata": {},
   "source": [
    "### CVA\n",
    "\n",
    "CVA is approximated by a linear interpolation across the tenors:\n",
    "\n",
    "$$\n",
    "CVA \\approx \\sum_i (1-R)E(\\frac{T_{i-1}-T_i}{2}) DF(\\frac{T_{i-1}-T_i}{2}) PD(\\frac{T_{i-1}-T_i}{2})\n",
    "$$\n",
    "\n"
   ]
  },
  {
   "cell_type": "code",
   "execution_count": 9,
   "metadata": {},
   "outputs": [
    {
     "data": {
      "image/png": "[encoded data removed]",
      "text/plain": [
       "<matplotlib.figure.Figure at 0x141863b0>"
      ]
     },
     "metadata": {},
     "output_type": "display_data"
    }
   ],
   "source": [
    "RR = 0.4\n",
    "CVA = (1 - RR) * EE_plus_median_interpol * DF_interpol * PD_interpol\n",
    "CVA_total = CVA.sum()\n",
    "\n",
    "ax =CVA.plot.bar(width=1.0, alpha=0.5, title='CVA')\n",
    "_ = plt.xlabel('Tenor period (years)')\n",
    "ax.yaxis.set_major_formatter(FuncFormatter(lambda y, _: '{:.2%}'.format(y)))"
   ]
  },
  {
   "cell_type": "code",
   "execution_count": 10,
   "metadata": {},
   "outputs": [
    {
     "name": "stdout",
     "output_type": "stream",
     "text": [
      "3.233191853001126\n"
     ]
    }
   ],
   "source": [
    "print (CVA_total*100)"
   ]
  }
 ],
 "metadata": {
  "kernelspec": {
   "display_name": "Python 3",
   "language": "python",
   "name": "python3"
  },
  "language_info": {
   "codemirror_mode": {
    "name": "ipython",
    "version": 3
   },
   "file_extension": ".py",
   "mimetype": "text/x-python",
   "name": "python",
   "nbconvert_exporter": "python",
   "pygments_lexer": "ipython3",
   "version": "3.6.1"
  }
 },
 "nbformat": 4,
 "nbformat_minor": 2
}
