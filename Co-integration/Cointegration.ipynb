{
 "cells": [
  {
   "cell_type": "markdown",
   "metadata": {},
   "source": [
    "## Learning and Cointegration in Pairs"
   ]
  },
  {
   "cell_type": "markdown",
   "metadata": {},
   "source": [
    "This report have describe the implementation and techniques used for implementing a Cointegration in Pairs. To keep it simple project is limited to a pair rather than portfolio of stocks.\n",
    "\n",
    "• Part 1 - Describe details about the data used for this project\n",
    "\n",
    "• Part 2 - Describe concise matrix form estimation for multivariate Vector Auto regression and conduct model spectification test for:      \n",
    "      \n",
    "      (a) Identification of optimal lag p with AIC / BIC tests \n",
    "      \n",
    "      (b) Stability check with eigenvectors of the autoregression system.\n",
    "\n",
    "• Part 3 - Describes implementation of Engle-Granger procedure and explore several cointegrated pairs.\n",
    "\n",
    "• Part 4 - Describes robust estimation.\n",
    "\n",
    "• Part 5 - Trading strategy based on cointegration spread.\n",
    "\n",
    "• Appendix - Describes some of the mathematical methods involved such as Multivariate Regression models (VAR(p), ECM, Augmented Dickey-Fuller Test and Ornstein–Uhlenbeck processes.\n"
   ]
  },
  {
   "cell_type": "markdown",
   "metadata": {},
   "source": [
    "## Part 1 - Data sets used in this project"
   ]
  },
  {
   "cell_type": "markdown",
   "metadata": {},
   "source": [
    "## Simulated Data"
   ]
  },
  {
   "cell_type": "markdown",
   "metadata": {},
   "source": [
    "Simulated Stochastic processes produced using Monte Carlo (MC) where random samples are drawn using normal distribution."
   ]
  },
  {
   "cell_type": "markdown",
   "metadata": {},
   "source": [
    "## Market Data"
   ]
  },
  {
   "cell_type": "markdown",
   "metadata": {},
   "source": [
    "* To keep it simple two stocks historic prices are used to describe the project. \n",
    "\n",
    "* The pairs researched for cointegration are US banking stocks Bank of America and Citi bank.\n",
    "\n",
    "* The two series of adjusted closing prices were joined to produce a single dataset consisting of daily adjusted closing prices for Bank of America and Citi bank.\n",
    "\n",
    "* The time series is for Jan-2016 to Dec-2016 for the in-sample testing and Jan-2015 to Jun-2015 for the out-of-sample testing. This was because several sources recommend to use one year of historic data to estimate the cointegration parameters and trade the estimates for a 6-month period, given that the parameters might change over time or the relationship cease to exist\n",
    "\n",
    "* Since Time series of stocks are generally non stationary. A log of returns was taken to make the Time Series stationary.\n"
   ]
  },
  {
   "cell_type": "markdown",
   "metadata": {},
   "source": [
    "## Part 2 - Describe concise matrix form estimation for multivariate Vector Auto regression and conduct model spectification test  for (a) Identification of optimal lag p with AIC / BIC tests (b)  Stability check with eigenvectors of the autoregression system."
   ]
  },
  {
   "cell_type": "code",
   "execution_count": 10,
   "metadata": {
    "collapsed": false
   },
   "outputs": [
    {
     "name": "stdout",
     "output_type": "stream",
     "text": [
      "Imports completed!\n"
     ]
    }
   ],
   "source": [
    "import pandas as pd\n",
    "\n",
    "from statsmodels.tsa.api import VAR\n",
    "from statsmodels.regression.linear_model import OLS\n",
    "from statsmodels.tsa.tsatools import (lagmat, add_trend)\n",
    "from statsmodels.tsa.stattools import adfuller\n",
    "\n",
    "%matplotlib inline\n",
    "\n",
    "import matplotlib.pyplot as plt\n",
    "import seaborn as sns\n",
    "import matplotlib.pylab as pylab\n",
    "\n",
    "print(\"Imports completed!\")"
   ]
  },
  {
   "cell_type": "code",
   "execution_count": 1,
   "metadata": {
    "collapsed": false
   },
   "outputs": [
    {
     "name": "stdout",
     "output_type": "stream",
     "text": [
      "Started loading all self implementation of VAR, OLS, Optimum Lag selection based on Matrices manupulation\n",
      "Completed loading all self implementation of VAR, OLS, Optimum Lag selection based on Matrices manupulation\n"
     ]
    }
   ],
   "source": [
    "print(\"Started loading all self implementation of VAR, OLS, Optimum Lag selection based on Matrices manupulation\")\n",
    "%run Cointegration.py\n",
    "print(\"Completed loading all self implementation of VAR, OLS, Optimum Lag selection based on Matrices manupulation\")"
   ]
  },
  {
   "cell_type": "markdown",
   "metadata": {
    "collapsed": true
   },
   "source": [
    "Please refer Cointegration.py for checking the self implementation of below :\n",
    "    \n",
    "    1. OLS\n",
    "    \n",
    "    2. ADFuller test\n",
    "    \n",
    "    3. Vector Autoregression\n",
    "    \n",
    "    4. Optimum Lag selection\n",
    "    \n",
    "    5. Stability checks\n",
    "    \n",
    "    6. Z - Score calucaltion\n",
    "    \n",
    "Please note above self implementation has been verified with Python's implementation in statsmodel library."
   ]
  },
  {
   "cell_type": "markdown",
   "metadata": {},
   "source": [
    "# Vector Autoregression (VAR)"
   ]
  },
  {
   "cell_type": "markdown",
   "metadata": {
    "collapsed": true
   },
   "source": [
    "It is a multivariate regression with past values.\n",
    "\n",
    "VAR(p) is the simplest way of structural equation modelling.\n",
    "\n",
    "It models a system of endogeneous variables that depends only on their past (lagged) values.\n",
    "\n",
    "$$\n",
    "Y_t = C + A_1 Y_{t-1} + ... + A_{t-p} Y_{t-p} + \\epsilon_t\n",
    "$$\n",
    "\n",
    "where $ Y_t = (y_{1,t} , ... , y_{n,t})' $  is a column vector N_var X1\n",
    "\n",
    "and A_p is a n X n matrix of coefficients for lagged variables  $ Y_{t-1} ... Y_{t-p} $"
   ]
  },
  {
   "cell_type": "markdown",
   "metadata": {
    "collapsed": true
   },
   "source": [
    "# Vector Autoregression : Estimation"
   ]
  },
  {
   "cell_type": "markdown",
   "metadata": {
    "collapsed": true
   },
   "source": [
    "Although VAR(p) can be exceedingly large, it is a system of seemingly unrelated regressions that can be estimated separately line by line using Ordinary Least Squares (OLS)"
   ]
  },
  {
   "cell_type": "markdown",
   "metadata": {
    "collapsed": true
   },
   "source": [
    "Matrix manipulation is available numpy package in Python, allowing to specify a concise form and estimate all lines of Vector Autoregression in one go.\n",
    "\n",
    "Even though VAR implementation is available in statsmodel package in Python, Matrix based estimation of VAR was implemented using Numpy package to rewrite calculation of VAR using following steps:\n",
    "\n",
    "1. Dependent data matrix was formed as follows, with $T = N_obs$ Dependent data matrix was formed with observation for the first p lags removed. Here observation are in rows from time p+1 to most recent observation at T\n",
    "$$\n",
    "Y = [y_{p+1}   y_{p+2}   ...   y_{T}]\n",
    "$$\n",
    "where\n",
    "$ [y_{1,t=1}   y_{1,...}   ...   y_{1,p}   y_{1,p+2} ...   y_{1,t=T}]$ refers to all historic observations of the variable $y_1$\n",
    "\n",
    "\n",
    "2. \n",
    "\n",
    "$$\n",
    "Z= 1 1 1\n",
    "\n",
    "y_{p} y_{p+1} y_{T-1}\n",
    "\n",
    "y_{p-1} y_{p} y_{T-2}           \n",
    "$$"
   ]
  },
  {
   "cell_type": "markdown",
   "metadata": {
    "collapsed": true
   },
   "source": []
  },
  {
   "cell_type": "markdown",
   "metadata": {
    "collapsed": true
   },
   "source": []
  },
  {
   "cell_type": "code",
   "execution_count": null,
   "metadata": {
    "collapsed": true
   },
   "outputs": [],
   "source": []
  },
  {
   "cell_type": "code",
   "execution_count": null,
   "metadata": {
    "collapsed": true
   },
   "outputs": [],
   "source": []
  },
  {
   "cell_type": "code",
   "execution_count": null,
   "metadata": {
    "collapsed": true
   },
   "outputs": [],
   "source": []
  },
  {
   "cell_type": "code",
   "execution_count": null,
   "metadata": {
    "collapsed": true
   },
   "outputs": [],
   "source": []
  },
  {
   "cell_type": "code",
   "execution_count": null,
   "metadata": {
    "collapsed": true
   },
   "outputs": [],
   "source": []
  },
  {
   "cell_type": "code",
   "execution_count": null,
   "metadata": {
    "collapsed": true
   },
   "outputs": [],
   "source": []
  }
 ],
 "metadata": {
  "celltoolbar": "Raw Cell Format",
  "kernelspec": {
   "display_name": "Python 3",
   "language": "python",
   "name": "python3"
  },
  "language_info": {
   "codemirror_mode": {
    "name": "ipython",
    "version": 3
   },
   "file_extension": ".py",
   "mimetype": "text/x-python",
   "name": "python",
   "nbconvert_exporter": "python",
   "pygments_lexer": "ipython3",
   "version": "3.6.0"
  }
 },
 "nbformat": 4,
 "nbformat_minor": 0
}
