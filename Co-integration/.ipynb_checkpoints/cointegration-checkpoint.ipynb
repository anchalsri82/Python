{
 "cells": [
  {
   "cell_type": "markdown",
   "metadata": {},
   "source": [
    "## Learning and Cointegration in Pairs"
   ]
  },
  {
   "cell_type": "markdown",
   "metadata": {},
   "source": [
    "This report have describe the implementation and techniques used for implementing a Cointegration in Pairs. To keep it simple project is limited to a pair rather than portfolio of stocks.\n",
    "\n",
    "• Part 1 - Describe details about the data used for this project\n",
    "\n",
    "• Part 2 - Describe concise matrix form estimation for multivariate Vector Auto regression and conduct model spectification test for:      \n",
    "      \n",
    "      (a) Identification of optimal lag p with AIC / BIC tests \n",
    "      \n",
    "      (b) Stability check with eigenvectors of the autoregression system.\n",
    "\n",
    "• Part 3 - Describes implementation of Engle-Granger procedure and explore several cointegrated pairs.\n",
    "\n",
    "• Part 4 - Describes robust estimation.\n",
    "\n",
    "• Part 5 - Trading strategy based on cointegration spread.\n",
    "\n",
    "• Appendix - Describes some of the mathematical methods involved such as Multivariate Regression models (VAR(p), ECM, Augmented Dickey-Fuller Test and Ornstein–Uhlenbeck processes.\n"
   ]
  },
  {
   "cell_type": "markdown",
   "metadata": {},
   "source": [
    "# Part 1 - Data sets used in this project"
   ]
  },
  {
   "cell_type": "markdown",
   "metadata": {},
   "source": [
    "### Simulated Data"
   ]
  },
  {
   "cell_type": "markdown",
   "metadata": {},
   "source": [
    "Simulated Stochastic processes produced using Monte Carlo (MC) where random samples are drawn using normal distribution."
   ]
  },
  {
   "cell_type": "markdown",
   "metadata": {},
   "source": [
    "### Market Data"
   ]
  },
  {
   "cell_type": "markdown",
   "metadata": {},
   "source": [
    "* To keep it simple two stocks historic prices are used to describe the project. \n",
    "\n",
    "* The pairs researched for cointegration are US banking stocks Bank of America and Citi bank.\n",
    "\n",
    "* The two series of adjusted closing prices were joined to produce a single dataset consisting of daily adjusted closing prices for Bank of America and Citi bank.\n",
    "\n",
    "* The time series is for Jan-2016 to Dec-2016 for the in-sample testing and Jan-2015 to Jun-2015 for the out-of-sample testing. This was because several sources recommend to use one year of historic data to estimate the cointegration parameters and trade the estimates for a 6-month period, given that the parameters might change over time or the relationship cease to exist\n",
    "\n",
    "* Since Time series of stocks are generally non stationary. A log of returns was taken to make the Time Series stationary.\n"
   ]
  },
  {
   "cell_type": "markdown",
   "metadata": {},
   "source": [
    "# Part 2 - Describe concise matrix form estimation for multivariate Vector Auto regression and conduct model spectification test  for (a) Identification of optimal lag p with AIC / BIC tests (b)  Stability check with eigenvectors of the autoregression system."
   ]
  },
  {
   "cell_type": "code",
   "execution_count": 1,
   "metadata": {
    "collapsed": false
   },
   "outputs": [
    {
     "name": "stdout",
     "output_type": "stream",
     "text": [
      "Imports completed!\n"
     ]
    }
   ],
   "source": [
    "import pandas as pd\n",
    "# Import statsmodels equivalents to validate results\n",
    "from statsmodels.tsa.api import VAR\n",
    "from statsmodels.regression.linear_model import OLS\n",
    "from statsmodels.tsa.tsatools import (lagmat, add_trend)\n",
    "from statsmodels.tsa.stattools import adfuller\n",
    "import numpy as np\n",
    "import matplotlib.pyplot as plt\n",
    "import seaborn as sns\n",
    "import matplotlib.pylab as pylab\n",
    "\n",
    "print(\"Imports completed!\")"
   ]
  },
  {
   "cell_type": "code",
   "execution_count": 1,
   "metadata": {
    "collapsed": false
   },
   "outputs": [
    {
     "name": "stdout",
     "output_type": "stream",
     "text": [
      "Started loading all self implementation of VAR, OLS, Optimum Lag selection based on Matrices manupulation\n",
      "Completed loading all self implementation of VAR, OLS, Optimum Lag selection based on Matrices manupulation\n"
     ]
    }
   ],
   "source": [
    "print(\"Started loading all self implementation of VAR, OLS, Optimum Lag selection based on Matrices manupulation\")\n",
    "%run Cointegration.py\n",
    "print(\"Completed loading all self implementation of VAR, OLS, Optimum Lag selection based on Matrices manupulation\")"
   ]
  },
  {
   "cell_type": "markdown",
   "metadata": {
    "collapsed": true
   },
   "source": [
    "Please refer Cointegration.py for checking the self implementation of below :\n",
    "    \n",
    "    1. OLS\n",
    "    \n",
    "    2. ADFuller test\n",
    "    \n",
    "    3. Vector Autoregression\n",
    "    \n",
    "    4. Optimum Lag selection\n",
    "    \n",
    "    5. Stability checks\n",
    "    \n",
    "    6. Z - Score calucaltion\n",
    "    \n",
    "Please note above self implementation has been verified with Python's implementation in statsmodel library."
   ]
  },
  {
   "cell_type": "markdown",
   "metadata": {},
   "source": [
    "### Vector Autoregression (VAR)"
   ]
  },
  {
   "cell_type": "markdown",
   "metadata": {
    "collapsed": true
   },
   "source": [
    "It is a multivariate regression with past values.\n",
    "\n",
    "VAR(p) is the simplest way of structural equation modelling.\n",
    "\n",
    "It models a system of endogeneous variables that depends only on their past (lagged) values.\n",
    "\n",
    "$$\n",
    "Y_t = C + A_1 Y_{t-1} + ... + A_{t-p} Y_{t-p} + \\epsilon_t\n",
    "$$\n",
    "\n",
    "where $ Y_t = (y_{1,t} , ... , y_{n,t})' $  is a column vector N_var X1\n",
    "\n",
    "and A_p is a n X n matrix of coefficients for lagged variables  $ Y_{t-1} ... Y_{t-p} $"
   ]
  },
  {
   "cell_type": "markdown",
   "metadata": {
    "collapsed": true
   },
   "source": [
    "### Vector Autoregression : Estimation"
   ]
  },
  {
   "cell_type": "markdown",
   "metadata": {
    "collapsed": true
   },
   "source": [
    "Although VAR(p) can be exceedingly large, it is a system of seemingly unrelated regressions that can be estimated separately line by line using Ordinary Least Squares (OLS)"
   ]
  },
  {
   "cell_type": "markdown",
   "metadata": {
    "collapsed": true
   },
   "source": [
    "Matrix manipulation is available numpy package in Python, allowing to specify a concise form and estimate all lines of Vector Autoregression in one go.\n",
    "\n",
    "Even though VAR implementation is available in statsmodel package in Python, Matrix based estimation of VAR was implemented using Numpy package to rewrite calculation of VAR using following steps:\n",
    "\n",
    "* Dependent data matrix was formed as follows, with $T = N_obs$ Dependent data matrix was formed with observation for the first p lags removed. Here observation are in rows from time p+1 to most recent observation at T\n",
    "$$\n",
    "Y = [y_{p+1}   y_{p+2}   ...   y_{T}]\n",
    "$$\n",
    "where\n",
    "$ [y_{1,t=1}   y_{1,...}   ...   y_{1,p}   y_{1,p+2} ...   y_{1,t=T}]$ refers to all historic observations of the variable $y_1$\n",
    "\n",
    "\n",
    "\n",
    "* Explanatory data matrix e.g.:\n",
    "\\begin{equation*}\n",
    "\\mathbf{Z} = \\begin{vmatrix}\n",
    "\\mathbf{1} & \\mathbf{1} & ... & \\mathbf{1} \\\\\n",
    "y_{p} & y_{p+1} & ... & y_{T-1} \\\\\n",
    "... & ... & ... & ... \\\\\n",
    "y_{p-1} & y_{p} & ... & y_{T-2}\n",
    "\\end{vmatrix}\n",
    "\\end{equation*}\n"
   ]
  },
  {
   "cell_type": "markdown",
   "metadata": {
    "collapsed": true
   },
   "source": [
    "### Residual (or Disturbance) "
   ]
  },
  {
   "cell_type": "markdown",
   "metadata": {
    "collapsed": true
   },
   "source": [
    "* Distribution matrix (innovations, residuals)\n",
    "\n",
    "$$\n",
    "\\epsilon = \\begin{vmatrix}\n",
    "\\epsilon_{p+1} & \\epsilon_{p+2} & ... & \\epsilon_{T}\n",
    "\\end{vmatrix} = \\begin{vmatrix}\n",
    "e_{1,p+1} & e_{1,p+2} & ... & e_{1,T} \\\\\n",
    "e_{2,p+1} & e_{2,p+2} & ... & e_{2,T} \\\\\n",
    "... & ... & ... & ... \\\\\n",
    "e_{n,p+1} & e_{n,p+2} & ... & e_{n,T} \\\\\n",
    "\\end{vmatrix}\n",
    "$$\n",
    "\n",
    "Each row of residuals is for the observations of variables $y_1, y_2, y_3,..., y_{n=Nvar}$ respectively. The most recent observation is at T.\n",
    "\n",
    "\n",
    "* Coffecient matrix includes the intercept C:\n",
    "$$\n",
    "B = \\begin{vmatrix}\n",
    "C & A_1 & A_2 & ... & A_p\n",
    "\\end{vmatrix}\n",
    "$$\n"
   ]
  },
  {
   "cell_type": "markdown",
   "metadata": {
    "collapsed": true
   },
   "source": [
    "### Calculating VAR(p) Estimates"
   ]
  },
  {
   "cell_type": "markdown",
   "metadata": {
    "collapsed": true
   },
   "source": [
    "Given our matrix specifications, VAR(p) systems can be written as \n",
    "$$\n",
    "Y = \\beta Z + \\epsilon\n",
    "$$"
   ]
  },
  {
   "cell_type": "markdown",
   "metadata": {
    "collapsed": true
   },
   "source": [
    "* Calculate the multivariate OLS estimator for regression coefficients matrix $\\beta$ as\n",
    "\n",
    "$$\n",
    "\\hat{\\beta} = Y Z' (ZZ')^{-1}\n",
    "$$\n",
    "\n",
    "* Backout regression residuals:\n",
    "$$\n",
    "\\hat{\\epsilon} = Y - \\hat{\\beta} Z = Y - \\hat{Y}\n",
    "$$\n",
    "\n"
   ]
  },
  {
   "cell_type": "markdown",
   "metadata": {
    "collapsed": true
   },
   "source": [
    "### Residual and Parameters Significance"
   ]
  },
  {
   "cell_type": "markdown",
   "metadata": {
    "collapsed": true
   },
   "source": [
    "* Estimator of the residual covariance matrix with $T = N_{obs}$\n",
    "\n",
    "$$\n",
    "\\hat{\\Sigma} = \\frac{1}{T} \\sum^{T}_{t=1} \\hat{\\epsilon_t} \\hat{\\epsilon_t}'\n",
    "$$\n",
    "\n",
    "\n",
    "* Covariance matrix of regression coefficients\n",
    "\n",
    "$$\n",
    "Cov(Vec(\\hat{\\beta})) = (ZZ')^{-1} ⊗ \\hat{\\Sigma} = I^{-1}\n",
    "$$\n",
    "\n",
    "where Vec denotes vectorization and ⊗ is the kronecker product. Standard errors of regression coefficients will be along the diagnol. Useful to calculate t-statistis."
   ]
  },
  {
   "cell_type": "markdown",
   "metadata": {},
   "source": [
    "### Optimal Lag Selection"
   ]
  },
  {
   "cell_type": "markdown",
   "metadata": {},
   "source": [
    "Optimal Lap p is determined by the lowest values of AIC, BIC statistics constructed using penalised likelihood.\n",
    "\n",
    "* Akaike Information Creterion (AIC)\n",
    "\n",
    "$$\n",
    "AIC = log |\\hat{\\Sigma}| + \\frac{2K'}{T}\n",
    "$$\n",
    "\n",
    "* Bayesian Information Creterion (also Schwarz Criterion) (BIC)\n",
    "\n",
    "$$\n",
    "BIC = \\log |\\hat{\\Sigma}| + \\frac{K'}{T} \\log(T)\n",
    "$$\n",
    "\n",
    "\n",
    "where $K' = n (n * p + 1)$ is the total number of variables in VAR(p)\n",
    "\n"
   ]
  },
  {
   "cell_type": "markdown",
   "metadata": {},
   "source": [
    "### Stability Condition\n",
    "\n",
    "\n",
    "* It requires for the eigenvalues of each relationship matrix $A_p$ to be inside the unit circle (<1).\n",
    "\n",
    "* This VAR system satisfies stability condition $|\\lambda I - A| = 0$\n",
    "\n",
    "* If p>1, coefficient matrix for each lag $A_p$ to be checked separately.\n",
    "\n"
   ]
  },
  {
   "cell_type": "markdown",
   "metadata": {},
   "source": [
    "### Augumentation DF Test for unit root"
   ]
  },
  {
   "cell_type": "markdown",
   "metadata": {},
   "source": [
    "To improve the Dickey-Fuller procedure, lagged differences $\\Delta y_t$ 'augment' the test, improving robustness wrt serial correlation:\n",
    "\n",
    "$$\n",
    "\\Delta y_t = \\phi y_{t-1} + \\sum^{p}_{k=1} \\phi_i \\Delta y_{y-k} + \\epsilon_t\n",
    "$$\n",
    "\n",
    "\n",
    "* Insignificant $\\phi$ means unit root for series $y_t$\n",
    "\n",
    "$$\n",
    "\\phi = \\beta - 1 = 0 \\implies \\beta = 1\n",
    "$$\n",
    "\n",
    "* The critical value is taken from the empirically tabulates Dickey Fuller distribution.\n",
    "\n"
   ]
  },
  {
   "cell_type": "markdown",
   "metadata": {},
   "source": [
    "# Part 3 - Describes implementation of Engle-Granger procedure and explore several cointegrated pairs."
   ]
  },
  {
   "cell_type": "markdown",
   "metadata": {},
   "source": [
    "### Cointegration Analysis and Estimation"
   ]
  },
  {
   "cell_type": "markdown",
   "metadata": {},
   "source": [
    "Cointegration System :\n",
    "                    A linear combination $\\beta_{coint}' Y_t = e_t$ must generate cointegrated residual (spread) as below $e_t$ ~ l(0)\n",
    "\n",
    "\n",
    "* To obtain the spread, allocation is done in $\\beta_{coint}$ as weights\n",
    "\n",
    "\n",
    "* There is a cancellation of a common stochastic process in each $y_{i,t}$ : \n",
    "\n",
    "$$\n",
    "e_t = y_{1,t} \\pm \\beta_2 y_r \\pm ... \\pm \\beta_n y_{n,t}\n",
    "$$\n",
    "\n",
    "$$\n",
    "\\beta_{coint} = \\begin{vmatrix}\n",
    "1 & \\pm \\beta_2 & ... & \\pm \\beta_n  \n",
    "\\end{vmatrix}\n",
    "$$\n",
    "\n",
    "\n",
    "* Assume we have 2 time series that are co-integrated, so :\n",
    "\n",
    "$$\n",
    "Z (t;\\tau_1) - \\beta Z (t; \\tau_2) = e_t ...... stationary I(0)\n",
    "$$\n",
    "\n",
    "\n",
    "* Cointegration factor $e_t$ is different from stochastic factor dX. It works with the slow speed of correction $(1-\\alpha)$\n",
    "\n",
    "$$\n",
    "\\Delta Z_t = \\phi \\Delta Z_{t-1} + (1-\\alpha) [Z(\\tau_1) - \\beta_c Z(\\tau_2) - \\mu_e]_{t-1}\n",
    "$$\n",
    "\n",
    "* The level of equilibrium $E[e_{t-1}]$ = $\\mu_e$ gives a risk factor a parallel shift of the yield curve.\n"
   ]
  },
  {
   "cell_type": "markdown",
   "metadata": {
    "collapsed": true
   },
   "source": [
    "#### Estimating Cointegration - Pairwise"
   ]
  },
  {
   "cell_type": "markdown",
   "metadata": {},
   "source": [
    "* Pairwise Estimation : Select two candidate time series and applied ADF test for stationary to the joint residual. Used the estimates residual to continue with the Engle-Granger procedure."
   ]
  },
  {
   "cell_type": "markdown",
   "metadata": {},
   "source": [
    "### Engle-Granger  Procedure"
   ]
  },
  {
   "cell_type": "markdown",
   "metadata": {},
   "source": [
    "#### Step 1"
   ]
  },
  {
   "cell_type": "markdown",
   "metadata": {},
   "source": [
    "Obtain the fitted residual $\\hat{e_t} = y_t - \\hat{b} x_t - \\hat{a} $ and test for unit root.\n",
    "\n",
    "* That assumes co-integrating vetor $\\beta_{coint}' = [1, \\hat{-b}]$ and equilibrium level $E[\\hat{e_t}] = \\hat{a} = \\mu_e$\n",
    "\n",
    "* If the residual is non-stationary then no long-run relationship exists and regression is spurious."
   ]
  },
  {
   "cell_type": "markdown",
   "metadata": {},
   "source": [
    "#### Step 2"
   ]
  },
  {
   "cell_type": "markdown",
   "metadata": {},
   "source": [
    "Plug the residual from Step 1 into the ECM equation and estimate parameters \\phi, \\alpha\n",
    "\n",
    "$$\n",
    "\\Delta y_t = \\phi \\Delta x_t - (1- \\alpha) \\hat{e}_{t-1}\n",
    "$$\n",
    "\n",
    "It is required to confirm the significance for $(1 - \\alpha)$ coefficient"
   ]
  },
  {
   "cell_type": "markdown",
   "metadata": {},
   "source": [
    "### Statistical Arbitrage with Cointegration"
   ]
  },
  {
   "cell_type": "markdown",
   "metadata": {},
   "source": [
    "* Cointegrated prices generated a mean-reverting spread. It is possible to enter systematic trades that generated P&L\n",
    "\n",
    "\n",
    "* Designed a trade and evaluated profitability.\n",
    "\n",
    "\n",
    "* Drawdown control and backtesting.\n",
    "\n",
    "\n",
    "* For systematic tradingm specified:\n",
    "    * Loading $\\beta_c$ give positive $\\beta' P_t$\n",
    "    * Bounds gave entry / exit, and\n",
    "    * Speed of reversion gives idea on probability over time."
   ]
  },
  {
   "cell_type": "markdown",
   "metadata": {},
   "source": [
    "#### Mean reverting spread"
   ]
  },
  {
   "cell_type": "markdown",
   "metadata": {},
   "source": [
    "* Using a cointegrated relationship amouing Volatility Futures, obtained a mean-reverting spread Q >> 0\n",
    "\n",
    "\n",
    "* The bounds are calculated by fitting to the OU process."
   ]
  },
  {
   "cell_type": "markdown",
   "metadata": {},
   "source": [
    "#### OU process"
   ]
  },
  {
   "cell_type": "markdown",
   "metadata": {},
   "source": [
    "Considered the process because it generated mean-reversion\n",
    "\n",
    "$$\n",
    "dY_t = -\\theta (y_t - \\mu_e) dt + \\sigma dX_t\n",
    "$$\n",
    "\n",
    "$\\theta$ is the spread of reversion\n",
    "\n",
    "$\\mu_e$ is the equilibrium level\n",
    "\n",
    "$\\sigma$ is the scatter of diffussion"
   ]
  },
  {
   "cell_type": "markdown",
   "metadata": {},
   "source": [
    "#### Evaluating mean- reversion"
   ]
  },
  {
   "cell_type": "markdown",
   "metadata": {},
   "source": [
    "OU SDE solution for $e_{t+\\tau}$ has mean-reverting and auto-regressive terms\n",
    "\n",
    "$$\n",
    "[e_{t+\\tau} = (1-e^{-\\theta_T}) \\mu_e + e^{-\\theta_T} e_t + \\epsilon_{t,T}  ]\n",
    "$$\n",
    "\n",
    "\n",
    "Estimate a simple regression as follows:\n",
    "\n",
    "$$\n",
    "e_t = C + \\beta e_{t-1} + \\epsilon_{t,T}\n",
    "$$\n",
    "\n",
    "$$\n",
    "e^{-\\theta_r} = \\beta \\implies \\theta  = - \\frac{ln \\beta}{\\tau}\n",
    "$$\n",
    "\n",
    "\n",
    "$$\n",
    "(1- e^{-\\theta r}) \\mu_e = C \\implies \\mu_e =  \\frac{C}{1-\\beta}\n",
    "$$"
   ]
  },
  {
   "cell_type": "markdown",
   "metadata": {},
   "source": [
    "#### Bonus of reversion"
   ]
  },
  {
   "cell_type": "markdown",
   "metadata": {},
   "source": [
    "* This scatter of the O.U. process relates to the total variance of co-integrating residual $e_t$ (where $\\tau$ is data frequency)\n",
    "\n",
    "$$\n",
    "\\quad \\sigma_{OU} = \\sqrt{\\frac{2 \\theta}{1-e^{-2\\theta \\tau}} Var[\\epsilon_{t, \\tau}]}\n",
    "$$\n",
    "\n",
    "\n",
    "$\\sigma_{OU}$ is diffusion over small time scale (volatility coming from small ups and downs of BM). But we are interested in reversion from 1 to $\\mu_e$\n",
    "\n",
    "\n",
    "To plot trading bounds we use\n",
    "\n",
    "$$\n",
    "\\sigma_{eq} = \\frac{\\sigma_{OU}}{\\sqrt{2\\theta}}\n",
    "$$\n",
    "\n",
    "\n",
    "for potential entry/exit signals $\\mu_e \\pm \\theta_{eq}$\n",
    "\n",
    "\n",
    "To set up an arbitrage trade, one requires the following items of information:\n",
    "* Weight $\\beta_{coint}'$ to obtain the spread as:\n",
    "    \n",
    "$$\n",
    "        \\beta_{1,c}P_{1,t} + \\beta_{2,c}P_{2,t} + ... + \\beta_{n,c}P_{n,t}\n",
    "$$\n",
    "\n",
    "* Speed of mean-reversion in the spread $\\theta$ , which can be converted into half life (expected position holding times) as :\n",
    "$$\n",
    "        {\\tau}\\space \\alpha\\space ln \\frac{2}{\\theta}\n",
    "$$\n",
    "\n"
   ]
  },
  {
   "cell_type": "code",
   "execution_count": null,
   "metadata": {
    "collapsed": true
   },
   "outputs": [],
   "source": []
  }
 ],
 "metadata": {
  "celltoolbar": "Raw Cell Format",
  "kernelspec": {
   "display_name": "Python 3",
   "language": "python",
   "name": "python3"
  },
  "language_info": {
   "codemirror_mode": {
    "name": "ipython",
    "version": 3
   },
   "file_extension": ".py",
   "mimetype": "text/x-python",
   "name": "python",
   "nbconvert_exporter": "python",
   "pygments_lexer": "ipython3",
   "version": "3.6.0"
  }
 },
 "nbformat": 4,
 "nbformat_minor": 0
}
